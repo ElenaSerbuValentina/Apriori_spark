{
  "cells": [
    {
      "cell_type": "markdown",
      "metadata": {
        "id": "view-in-github",
        "colab_type": "text"
      },
      "source": [
        "<a href=\"https://colab.research.google.com/github/ElenaSerbuValentina/Apriori_spark/blob/main/Apriori_Spark.ipynb\" target=\"_parent\"><img src=\"https://colab.research.google.com/assets/colab-badge.svg\" alt=\"Open In Colab\"/></a>"
      ]
    },
    {
      "cell_type": "markdown",
      "metadata": {
        "id": "jtXzKYbrDkjX"
      },
      "source": [
        "# PYSPARK SETUP\n"
      ]
    },
    {
      "cell_type": "code",
      "execution_count": 1,
      "metadata": {
        "id": "d1-ukRuo4srd"
      },
      "outputs": [],
      "source": [
        "# Download Java Virtual Machine (JVM)\n",
        "!apt-get install openjdk-8-jdk-headless -qq > /dev/null\n",
        "# Download Spark\n",
        "!wget -q https://dlcdn.apache.org/spark/spark-3.4.0/spark-3.4.0-bin-hadoop3.tgz\n",
        "# Unzip the file\n",
        "!tar xf spark-3.4.0-bin-hadoop3.tgz"
      ]
    },
    {
      "cell_type": "code",
      "execution_count": 2,
      "metadata": {
        "id": "h3hvSnHa44hB"
      },
      "outputs": [],
      "source": [
        "import os\n",
        "os.environ[\"JAVA_HOME\"] = \"/usr/lib/jvm/java-8-openjdk-amd64\"\n",
        "os.environ[\"SPARK_HOME\"] = '/content/spark-3.4.0-bin-hadoop3'"
      ]
    },
    {
      "cell_type": "code",
      "execution_count": 3,
      "metadata": {
        "id": "HKfBgSi745H0",
        "colab": {
          "base_uri": "https://localhost:8080/",
          "height": 35
        },
        "outputId": "02572563-39fd-4b49-b72e-895d16c0cde1"
      },
      "outputs": [
        {
          "output_type": "execute_result",
          "data": {
            "text/plain": [
              "'/content/spark-3.4.0-bin-hadoop3'"
            ],
            "application/vnd.google.colaboratory.intrinsic+json": {
              "type": "string"
            }
          },
          "metadata": {},
          "execution_count": 3
        }
      ],
      "source": [
        "# Install library for finding Spark\n",
        "!pip install -q findspark\n",
        "# Import the libary\n",
        "import findspark\n",
        "# Initiate findspark\n",
        "findspark.init()\n",
        "# Check the location for Spark\n",
        "findspark.find()"
      ]
    },
    {
      "cell_type": "code",
      "execution_count": 4,
      "metadata": {
        "id": "GnLpxugb49J0"
      },
      "outputs": [],
      "source": [
        "from pyspark.sql import SparkSession\n",
        "from pyspark.conf import SparkConf\n",
        "conf = SparkConf().setAppName('test_mba')\n",
        "spark = SparkSession.builder.enableHiveSupport().config(conf=conf).getOrCreate()\n",
        "#spark = SparkSession.builder.master(\"local[*]\").getOrCreate()\n",
        "sc = spark.sparkContext"
      ]
    },
    {
      "cell_type": "markdown",
      "metadata": {
        "id": "EBxWiUIb5JOU"
      },
      "source": [
        "# DATA IMPORT"
      ]
    },
    {
      "cell_type": "code",
      "execution_count": 5,
      "metadata": {
        "id": "MAjX0_dPDcze"
      },
      "outputs": [],
      "source": [
        "from google.colab import files\n",
        "import pandas as pd\n",
        "import numpy as np\n",
        "import os"
      ]
    },
    {
      "cell_type": "code",
      "execution_count": 6,
      "metadata": {
        "id": "Eqj9rPT85fIc"
      },
      "outputs": [],
      "source": [
        "#insert your kaggle keys\n",
        "os.environ['KAGGLE_USERNAME'] = \"eluska\"\n",
        "os.environ['KAGGLE_KEY'] = \"91ee9b34765d3cbbbe802cf7b1bd16cb\""
      ]
    },
    {
      "cell_type": "code",
      "execution_count": 7,
      "metadata": {
        "id": "ZvLOdoLR5zqo",
        "colab": {
          "base_uri": "https://localhost:8080/"
        },
        "outputId": "d55dcfbb-6aa9-4ae0-cae5-f6d516bab8ec"
      },
      "outputs": [
        {
          "output_type": "stream",
          "name": "stdout",
          "text": [
            "Downloading medal-emnlp.zip to /content\n",
            "100% 6.81G/6.82G [01:22<00:00, 39.5MB/s]\n",
            "100% 6.82G/6.82G [01:22<00:00, 89.2MB/s]\n"
          ]
        }
      ],
      "source": [
        "!kaggle datasets download -d xhlulu/medal-emnlp --unzip"
      ]
    },
    {
      "cell_type": "markdown",
      "metadata": {
        "id": "bwpXxhilX4bC"
      },
      "source": [
        "# IMPORTS"
      ]
    },
    {
      "cell_type": "code",
      "source": [
        "!git clone https://github.com/ElenaSerbuValentina/Apriori_spark.git"
      ],
      "metadata": {
        "id": "Iix3PbPtoHCF",
        "colab": {
          "base_uri": "https://localhost:8080/"
        },
        "outputId": "938a3116-8130-4ada-931d-f40227f91c01"
      },
      "execution_count": 8,
      "outputs": [
        {
          "output_type": "stream",
          "name": "stdout",
          "text": [
            "Cloning into 'Apriori_spark'...\n",
            "remote: Enumerating objects: 91, done.\u001b[K\n",
            "remote: Counting objects: 100% (91/91), done.\u001b[K\n",
            "remote: Compressing objects: 100% (85/85), done.\u001b[K\n",
            "remote: Total 91 (delta 41), reused 0 (delta 0), pack-reused 0\u001b[K\n",
            "Receiving objects: 100% (91/91), 261.46 KiB | 4.75 MiB/s, done.\n",
            "Resolving deltas: 100% (41/41), done.\n"
          ]
        }
      ]
    },
    {
      "cell_type": "code",
      "execution_count": 9,
      "metadata": {
        "id": "OJpWBPmTT1j8"
      },
      "outputs": [],
      "source": [
        "import itertools\n",
        "from itertools import combinations, product\n",
        "from pyspark.sql import DataFrame\n",
        "import nltk\n",
        "from nltk.stem import WordNetLemmatizer\n",
        "from nltk.tokenize import word_tokenize\n",
        "import string"
      ]
    },
    {
      "cell_type": "code",
      "execution_count": 10,
      "metadata": {
        "id": "3I6X9SBamn0U",
        "colab": {
          "base_uri": "https://localhost:8080/"
        },
        "outputId": "ebbed03d-4fc1-43df-c49f-85d0cfaa365f"
      },
      "outputs": [
        {
          "output_type": "stream",
          "name": "stderr",
          "text": [
            "[nltk_data] Downloading package punkt to /root/nltk_data...\n",
            "[nltk_data]   Unzipping tokenizers/punkt.zip.\n",
            "[nltk_data] Downloading package stopwords to /root/nltk_data...\n",
            "[nltk_data]   Unzipping corpora/stopwords.zip.\n",
            "[nltk_data] Downloading package wordnet to /root/nltk_data...\n"
          ]
        }
      ],
      "source": [
        "from Apriori_spark.utils.functions import Preprocess, apriori"
      ]
    },
    {
      "cell_type": "markdown",
      "metadata": {
        "id": "mNp4wKHBXrVN"
      },
      "source": [
        "# DATA PREPARATION"
      ]
    },
    {
      "cell_type": "code",
      "execution_count": 11,
      "metadata": {
        "id": "PWS-_4Xxr221"
      },
      "outputs": [],
      "source": [
        "#read data\n",
        "df = spark.read.csv('/content/full_data.csv', header=True, inferSchema=True)"
      ]
    },
    {
      "cell_type": "code",
      "execution_count": 12,
      "metadata": {
        "id": "KRsSEkn3rZgZ"
      },
      "outputs": [],
      "source": [
        "#data sampling\n",
        "df = df.sample(fraction=0.0001,seed= 143)"
      ]
    },
    {
      "cell_type": "code",
      "execution_count": 13,
      "metadata": {
        "id": "rlBjmUEBspzS"
      },
      "outputs": [],
      "source": [
        "#takes conversation column from rdd\n",
        "rdd = df.rdd.map(lambda x:x[0])"
      ]
    },
    {
      "cell_type": "code",
      "execution_count": 14,
      "metadata": {
        "id": "FToduPRoVs2W",
        "colab": {
          "base_uri": "https://localhost:8080/"
        },
        "outputId": "75bc9f9b-150c-4e71-9eb0-b7a3d6f43aeb"
      },
      "outputs": [
        {
          "output_type": "execute_result",
          "data": {
            "text/plain": [
              "['anaerobically digested dewatered sludge to cm thick was applied to a forest clearcut as a fertilizer source in northwest washington on gravelly glacial outwash soil this sludge is not microbiologically sterile and may contain pathogenic organisms fecal coliform bacterial counts in sludge applied in summer july fell from x to g in days and to g in days dieoff appeared more rapid in winter januaryapplied sludge when colnts fell from x to g in days initial death rates were related to sludge temperature moisture ph PCS composition and microbial competition aftergrowth of fecal coliforms occurred in warm summer and fall months but counts were of similar magnitude to background levels in forest soils where a maximum count of g was recorded total coliform counts in fresh sludge ranged from x to x g numbers stabilized at to g in spring fall and summer with lower numbers in winter both total and fecal bacteria moved from the sludge to the soil beneath but few penetrated past the first cm the soil acts as an effective biological filter few fecal coliform bacteria were recorded in the groundwater generally being less than ml and mostly ml a maximum count of ml was recorded groundwater contamination from vertical movement of potential pathogens appears unlikely but hazards from surface runoff and direct handling in the first year may arise']"
            ]
          },
          "metadata": {},
          "execution_count": 14
        }
      ],
      "source": [
        "rdd.take(1)"
      ]
    },
    {
      "cell_type": "code",
      "execution_count": 15,
      "metadata": {
        "id": "TSY0mHMKfq-y",
        "colab": {
          "base_uri": "https://localhost:8080/"
        },
        "outputId": "c9d652b2-f21b-4870-88e9-5b85e983d329"
      },
      "outputs": [
        {
          "output_type": "execute_result",
          "data": {
            "text/plain": [
              "1438"
            ]
          },
          "metadata": {},
          "execution_count": 15
        }
      ],
      "source": [
        "#define total numer of transactions\n",
        "total_count = rdd.count()\n",
        "total_count"
      ]
    },
    {
      "cell_type": "code",
      "execution_count": 16,
      "metadata": {
        "id": "QN0AxjThswQR"
      },
      "outputs": [],
      "source": [
        "#preprocessing rdd (INITIAL STAGE)\n",
        "rdd_preprocessed = rdd.map(Preprocess.preprocess)"
      ]
    },
    {
      "cell_type": "code",
      "execution_count": 17,
      "metadata": {
        "id": "BIs3qKSftPAM"
      },
      "outputs": [],
      "source": [
        "#encode rdd and get dictionary for decoding the encoded results\n",
        "#initialize class for running Apriori preprocessing\n",
        "processor = Preprocess()\n",
        "#hash the items to integers in order to improve algorithm's running time\n",
        "rdd_encoded, num2word = processor.encoder(rdd_preprocessed)\n",
        "\n",
        "#initialize apriori class with minimum support, maximum size of baskets , minimum confidence to generate association rules and the vocabulary\n",
        "#that maps numbers to words in order to decode the final frequent itemsets\n",
        "APRIORI = apriori(minSupportpercent =0.1,total_transactions=total_count, maximumBasketSize=3, min_confidence = 0.5, vocab= num2word)"
      ]
    },
    {
      "cell_type": "code",
      "execution_count": 18,
      "metadata": {
        "id": "n9tjWB4RtsUU",
        "colab": {
          "base_uri": "https://localhost:8080/"
        },
        "outputId": "efd893cb-1a42-4d91-c278-b8ccea2764dd"
      },
      "outputs": [
        {
          "output_type": "execute_result",
          "data": {
            "text/plain": [
              "PythonRDD[23] at RDD at PythonRDD.scala:53"
            ]
          },
          "metadata": {},
          "execution_count": 18
        }
      ],
      "source": [
        "#in order to improve performance\n",
        "rdd = rdd_encoded\n",
        "rdd.cache()"
      ]
    },
    {
      "cell_type": "markdown",
      "metadata": {
        "id": "MQ6ZMMhnN9mR"
      },
      "source": [
        "# FIND SINGLETONS"
      ]
    },
    {
      "cell_type": "code",
      "execution_count": 19,
      "metadata": {
        "id": "Ni9dvymO5Mvb"
      },
      "outputs": [],
      "source": [
        "minSupport = total_count*0.1\n",
        "singletons = rdd.flatMap(list)\\\n",
        "                 .map(lambda word: (word,1))\\\n",
        "                 .reduceByKey(lambda y,x: x+y)\\\n",
        "                 .filter(lambda t: t[1]>= minSupport)"
      ]
    },
    {
      "cell_type": "code",
      "execution_count": 21,
      "metadata": {
        "id": "XVaYdr_BORBG"
      },
      "outputs": [],
      "source": [
        "words_singleton = singletons.take(2)\n",
        "words_singleton = [(num2word[t[0]],t[1]) for t in words_singleton]"
      ]
    },
    {
      "cell_type": "code",
      "execution_count": 22,
      "metadata": {
        "id": "LcBmLgZDK8ag",
        "colab": {
          "base_uri": "https://localhost:8080/"
        },
        "outputId": "f14ad62b-766f-4b5c-b0d6-207747a68358"
      },
      "outputs": [
        {
          "output_type": "execute_result",
          "data": {
            "text/plain": [
              "[('significantly', 165), ('analysis', 206)]"
            ]
          },
          "metadata": {},
          "execution_count": 22
        }
      ],
      "source": [
        "words_singleton"
      ]
    },
    {
      "cell_type": "markdown",
      "metadata": {
        "id": "yVEWpkx6PIqz"
      },
      "source": [
        "# FIND FREQUENT PAIRS"
      ]
    },
    {
      "cell_type": "code",
      "execution_count": 23,
      "metadata": {
        "id": "wP-5BdVt6TWL"
      },
      "outputs": [],
      "source": [
        "singletons = singletons.map(lambda x: (x[0]))\n",
        "candidates1 = list(combinations(singletons.toLocalIterator(),2))\n",
        "minSupport_2 = minSupport/4\n",
        "#filtering phase to select real frequent pairs\n",
        "combined_2 = rdd.flatMap(lambda sentence: [(tuple(candidate),1) for candidate in candidates1 if set(list(candidate)).issubset(set(sentence))])\\\n",
        "                .reduceByKey(lambda y,x:x+y)\\\n",
        "                .filter(lambda item : item[1]>= minSupport_2)"
      ]
    },
    {
      "cell_type": "code",
      "execution_count": 24,
      "metadata": {
        "id": "qKOvxfcxQR87"
      },
      "outputs": [],
      "source": [
        "words_2 = combined_2.take(2)\n",
        "words_2 = [(num2word[t[0]],t[1]) if type(t[0])==int else (tuple([num2word[element] for element in t[0]]),t[1]) for t in words_2]"
      ]
    },
    {
      "cell_type": "code",
      "execution_count": 25,
      "metadata": {
        "id": "7UgvDXyzofEF",
        "colab": {
          "base_uri": "https://localhost:8080/"
        },
        "outputId": "9b9edc0a-4a75-4d3b-96ad-9f628389af37"
      },
      "outputs": [
        {
          "output_type": "execute_result",
          "data": {
            "text/plain": [
              "[(('increased', 'two'), 38), (('high', 'found'), 39)]"
            ]
          },
          "metadata": {},
          "execution_count": 25
        }
      ],
      "source": [
        "words_2"
      ]
    },
    {
      "cell_type": "markdown",
      "metadata": {
        "id": "uI--OXsGPO7S"
      },
      "source": [
        "# FIND FREQUENT TRIPLETS"
      ]
    },
    {
      "cell_type": "code",
      "execution_count": 26,
      "metadata": {
        "id": "7QPnwPC6QkXg"
      },
      "outputs": [],
      "source": [
        "#compute candidates for frequent triplets\n",
        "k=3\n",
        "candidates = APRIORI.getCombinations(combined_2,k)"
      ]
    },
    {
      "cell_type": "code",
      "execution_count": 27,
      "metadata": {
        "id": "VXMYkg8B6m9L"
      },
      "outputs": [],
      "source": [
        "minSupport_3 = minSupport/5\n",
        "combined_3 = rdd.flatMap(lambda sentence: [(tuple(candidate),1) for candidate in candidates if set(list(candidate)).issubset(set(sentence))])\\\n",
        "                .reduceByKey(lambda y,x:x+y)\\\n",
        "                .filter(lambda item : item[1]> minSupport_3)"
      ]
    },
    {
      "cell_type": "code",
      "execution_count": 28,
      "metadata": {
        "id": "7OiCRKLXkdlM"
      },
      "outputs": [],
      "source": [
        "word_3 = combined_3.take(2)\n",
        "word_3 = [(num2word[t[0]],t[1]) if type(t[0])==int else (tuple([num2word[element] for element in t[0]]),t[1]) for t in word_3]"
      ]
    },
    {
      "cell_type": "code",
      "execution_count": 29,
      "metadata": {
        "id": "tiw5Kv-Yq_76",
        "colab": {
          "base_uri": "https://localhost:8080/"
        },
        "outputId": "a660a990-c4f0-400b-a965-9a00b99fa34c"
      },
      "outputs": [
        {
          "output_type": "execute_result",
          "data": {
            "text/plain": [
              "[(('cell', 'also', 'study'), 33), (('cell', 'effect', 'result'), 37)]"
            ]
          },
          "metadata": {},
          "execution_count": 29
        }
      ],
      "source": [
        "word_3"
      ]
    },
    {
      "cell_type": "markdown",
      "metadata": {
        "id": "kiFQD9rVPVjO"
      },
      "source": [
        "# GENERALIZED APRIORI ALGORITHM"
      ]
    },
    {
      "cell_type": "code",
      "execution_count": 30,
      "metadata": {
        "id": "-j0K5nYoUOPw",
        "colab": {
          "base_uri": "https://localhost:8080/"
        },
        "outputId": "48517c32-849c-4146-ab7a-39874a0fd084"
      },
      "outputs": [
        {
          "output_type": "stream",
          "name": "stdout",
          "text": [
            "---set up complete---\n",
            "---singletones found!---\n",
            "---first candidates found!---\n",
            "starting 2 items in basket loop\n",
            "added frequent baskets with 2 items\n",
            "computing candidates for next iteration\n",
            "found candidates for 3 items in basket\n",
            "starting 3 items in basket loop\n",
            "added frequent baskets with 3 items\n"
          ]
        }
      ],
      "source": [
        "#run the generalized Apriori algorithm on my processed rdd\n",
        "freq_rdd =APRIORI.Apriori(support = sc.parallelize([]), rdd=rdd)"
      ]
    },
    {
      "cell_type": "code",
      "execution_count": 31,
      "metadata": {
        "id": "NU3EBgmrPf1i"
      },
      "outputs": [],
      "source": [
        "results = freq_rdd.collect()"
      ]
    },
    {
      "cell_type": "code",
      "execution_count": 32,
      "metadata": {
        "id": "KEKkSNZdCVI4"
      },
      "outputs": [],
      "source": [
        "#decode results which are hashed to integers\n",
        "decoded = [(num2word[t[0]],t[1]) if type(t[0])==int else (tuple([num2word[element] for element in t[0]]),t[1]) for t in results]"
      ]
    },
    {
      "cell_type": "code",
      "execution_count": 33,
      "metadata": {
        "id": "RIv0YI1lx24H",
        "colab": {
          "base_uri": "https://localhost:8080/"
        },
        "outputId": "38850108-e1c8-4fb3-e73a-9f4b6c29f65b"
      },
      "outputs": [
        {
          "output_type": "execute_result",
          "data": {
            "text/plain": [
              "[('significantly', 165),\n",
              " ('analysis', 206),\n",
              " ('level', 208),\n",
              " ('disease', 174),\n",
              " ('patient', 335),\n",
              " ('compared', 177),\n",
              " ('factor', 144),\n",
              " ('cell', 315),\n",
              " ('time', 178),\n",
              " ('protein', 224),\n",
              " ('showed', 170),\n",
              " ('increased', 185),\n",
              " ('case', 157),\n",
              " ('high', 191),\n",
              " ('result', 375),\n",
              " ('associated', 169),\n",
              " ('t0', 177),\n",
              " ('however', 223),\n",
              " ('used', 229),\n",
              " ('found', 193),\n",
              " ('one', 212),\n",
              " ('may', 267),\n",
              " ('p', 167),\n",
              " ('well', 155),\n",
              " ('system', 164),\n",
              " ('using', 260),\n",
              " ('present', 183),\n",
              " ('different', 207),\n",
              " ('also', 295),\n",
              " ('human', 151),\n",
              " ('activity', 215),\n",
              " ('significant', 170),\n",
              " ('treatment', 251),\n",
              " ('method', 149),\n",
              " ('role', 176),\n",
              " ('mechanism', 150),\n",
              " ('change', 155),\n",
              " ('effect', 313),\n",
              " ('gene', 149),\n",
              " ('c', 157),\n",
              " ('clinical', 152),\n",
              " ('show', 144),\n",
              " ('expression', 149),\n",
              " ('study', 419),\n",
              " ('observed', 179),\n",
              " ('two', 245),\n",
              " ('response', 154),\n",
              " ('control', 167),\n",
              " ('data', 168),\n",
              " (('increased', 'two'), 38),\n",
              " (('high', 'found'), 39),\n",
              " (('patient', 'clinical'), 78),\n",
              " (('treatment', 'two'), 43),\n",
              " (('effect', 'study'), 111),\n",
              " (('significantly', 'control'), 46),\n",
              " (('high', 'treatment'), 42),\n",
              " (('may', 'expression'), 43),\n",
              " (('associated', 'however'), 37),\n",
              " (('cell', 'result'), 99),\n",
              " (('significantly', 'effect'), 59),\n",
              " (('result', 'c'), 44),\n",
              " (('compared', 'using'), 43),\n",
              " (('increased', 'high'), 36),\n",
              " (('increased', 'may'), 57),\n",
              " (('cell', 'activity'), 75),\n",
              " (('used', 'one'), 41),\n",
              " (('high', 'also'), 52),\n",
              " (('activity', 'two'), 39),\n",
              " (('used', 'method'), 38),\n",
              " (('p', 'study'), 61),\n",
              " (('result', 'effect'), 105),\n",
              " (('different', 'also'), 57),\n",
              " (('show', 'study'), 42),\n",
              " (('cell', 'system'), 48),\n",
              " (('cell', 'different'), 53),\n",
              " (('using', 'different'), 55),\n",
              " (('analysis', 'high'), 44),\n",
              " (('used', 'c'), 36),\n",
              " (('result', 'associated'), 50),\n",
              " (('however', 'also'), 54),\n",
              " (('compared', 'used'), 36),\n",
              " (('analysis', 'gene'), 50),\n",
              " (('compared', 'control'), 37),\n",
              " (('level', 'associated'), 36),\n",
              " (('also', 'expression'), 53),\n",
              " (('result', 'gene'), 52),\n",
              " (('used', 'treatment'), 45),\n",
              " (('used', 'activity'), 39),\n",
              " (('compared', 'result'), 63),\n",
              " (('patient', 'compared'), 47),\n",
              " (('however', 'present'), 36),\n",
              " (('time', 'effect'), 51),\n",
              " (('protein', 'role'), 53),\n",
              " (('protein', 'mechanism'), 44),\n",
              " (('one', 'also'), 50),\n",
              " (('significantly', 'result'), 61),\n",
              " (('different', 'observed'), 41),\n",
              " (('patient', 'time'), 36),\n",
              " (('showed', 'also'), 39),\n",
              " (('cell', 'high'), 54),\n",
              " (('may', 'clinical'), 37),\n",
              " (('gene', 'expression'), 62),\n",
              " (('however', 'expression'), 42),\n",
              " (('result', 'may'), 93),\n",
              " (('time', 'study'), 66),\n",
              " (('cell', 'significant'), 43),\n",
              " (('increased', 'activity'), 40),\n",
              " (('time', 'result'), 62),\n",
              " (('level', 'increased'), 49),\n",
              " (('analysis', 'may'), 46),\n",
              " (('well', 'different'), 40),\n",
              " (('disease', 'result'), 39),\n",
              " (('level', 'using'), 41),\n",
              " (('found', 'using'), 38),\n",
              " (('patient', 'showed'), 41),\n",
              " (('also', 'show'), 36),\n",
              " (('activity', 'effect'), 66),\n",
              " (('used', 'study'), 93),\n",
              " (('patient', 'significant'), 48),\n",
              " (('cell', 'using'), 69),\n",
              " (('however', 'one'), 40),\n",
              " (('mechanism', 'expression'), 39),\n",
              " (('analysis', 'found'), 38),\n",
              " (('high', 'two'), 46),\n",
              " (('compared', 'however'), 46),\n",
              " (('found', 'activity'), 37),\n",
              " (('high', 'may'), 45),\n",
              " (('may', 'significant'), 40),\n",
              " (('using', 'significant'), 48),\n",
              " (('cell', 'may'), 83),\n",
              " (('protein', 'expression'), 63),\n",
              " (('cell', 'response'), 49),\n",
              " (('analysis', 'role'), 40),\n",
              " (('patient', 'however'), 52),\n",
              " (('cell', 'study'), 102),\n",
              " (('level', 'expression'), 42),\n",
              " (('result', 'observed'), 62),\n",
              " (('significantly', 'increased'), 56),\n",
              " (('well', 'also'), 43),\n",
              " (('treatment', 'clinical'), 52),\n",
              " (('result', 'change'), 43),\n",
              " (('however', 'using'), 50),\n",
              " (('protein', 'however'), 51),\n",
              " (('patient', 'two'), 49),\n",
              " (('analysis', 'patient'), 39),\n",
              " (('result', 'activity'), 67),\n",
              " (('level', 'cell'), 69),\n",
              " (('study', 'data'), 62),\n",
              " (('analysis', 't0'), 37),\n",
              " (('patient', 'one'), 63),\n",
              " (('analysis', 'level'), 38),\n",
              " (('role', 'expression'), 51),\n",
              " (('using', 'method'), 61),\n",
              " (('compared', 'also'), 47),\n",
              " (('system', 'two'), 41),\n",
              " (('result', 'two'), 69),\n",
              " (('role', 'response'), 41),\n",
              " (('showed', 'used'), 38),\n",
              " (('increased', 'study'), 61),\n",
              " (('may', 'role'), 50),\n",
              " (('analysis', 'different'), 46),\n",
              " (('two', 'control'), 40),\n",
              " (('method', 'study'), 48),\n",
              " (('patient', 'change'), 36),\n",
              " (('disease', 'cell'), 42),\n",
              " (('significant', 'effect'), 55),\n",
              " (('t0', 'may'), 39),\n",
              " (('however', 'two'), 41),\n",
              " (('human', 'effect'), 47),\n",
              " (('analysis', 'also'), 49),\n",
              " (('protein', 'c'), 43),\n",
              " (('using', 'observed'), 46),\n",
              " (('mechanism', 'study'), 53),\n",
              " (('cell', 'also'), 96),\n",
              " (('increased', 'effect'), 72),\n",
              " (('result', 'also'), 93),\n",
              " (('level', 'patient'), 49),\n",
              " (('system', 'activity'), 37),\n",
              " (('result', 'one'), 68),\n",
              " (('used', 'using'), 57),\n",
              " (('significantly', 'significant'), 43),\n",
              " (('result', 'system'), 56),\n",
              " (('change', 'effect'), 44),\n",
              " (('result', 'control'), 65),\n",
              " (('significantly', 'level'), 39),\n",
              " (('level', 'protein'), 51),\n",
              " (('result', 'used'), 76),\n",
              " (('analysis', 'however'), 50),\n",
              " (('compared', 'two'), 38),\n",
              " (('result', 'found'), 59),\n",
              " (('associated', 'also'), 47),\n",
              " (('one', 'using'), 47),\n",
              " (('role', 'mechanism'), 39),\n",
              " (('used', 'data'), 39),\n",
              " (('result', 'however'), 76),\n",
              " (('time', 'increased'), 42),\n",
              " (('present', 'also'), 45),\n",
              " (('cell', 'treatment'), 52),\n",
              " (('using', 'human'), 42),\n",
              " (('mechanism', 'effect'), 53),\n",
              " (('also', 'study'), 96),\n",
              " (('time', 'significant'), 41),\n",
              " (('level', 'may'), 48),\n",
              " (('c', 'two'), 49),\n",
              " (('significant', 'treatment'), 36),\n",
              " (('analysis', 'protein'), 54),\n",
              " (('compared', 'high'), 42),\n",
              " (('present', 'study'), 85),\n",
              " (('also', 'activity'), 62),\n",
              " (('showed', 'may'), 39),\n",
              " (('however', 'different'), 43),\n",
              " (('time', 'may'), 36),\n",
              " (('disease', 'may'), 45),\n",
              " (('result', 'human'), 57),\n",
              " (('t0', 'study'), 54),\n",
              " (('significantly', 'patient'), 39),\n",
              " (('patient', 'treatment'), 102),\n",
              " (('cell', 'used'), 56),\n",
              " (('also', 'observed'), 54),\n",
              " (('system', 'different'), 37),\n",
              " (('significantly', 'cell'), 50),\n",
              " (('level', 'activity'), 36),\n",
              " (('protein', 'activity'), 60),\n",
              " (('result', 'significant'), 55),\n",
              " (('study', 'control'), 64),\n",
              " (('analysis', 'activity'), 37),\n",
              " (('protein', 'showed'), 42),\n",
              " (('using', 'data'), 54),\n",
              " (('c', 'study'), 40),\n",
              " (('time', 'using'), 41),\n",
              " (('significant', 'study'), 57),\n",
              " (('showed', 'result'), 68),\n",
              " (('effect', 'c'), 37),\n",
              " (('analysis', 'used'), 49),\n",
              " (('showed', 'high'), 36),\n",
              " (('high', 'study'), 73),\n",
              " (('may', 'using'), 44),\n",
              " (('p', 'using'), 41),\n",
              " (('compared', 'treatment'), 43),\n",
              " (('cell', 'increased'), 53),\n",
              " (('activity', 'mechanism'), 45),\n",
              " (('cell', 'one'), 45),\n",
              " (('t0', 'effect'), 38),\n",
              " (('disease', 'study'), 54),\n",
              " (('protein', 'gene'), 66),\n",
              " (('cell', 'present'), 47),\n",
              " (('result', 'response'), 60),\n",
              " (('level', 'treatment'), 45),\n",
              " (('also', 'effect'), 80),\n",
              " (('one', 'may'), 47),\n",
              " (('well', 'effect'), 40),\n",
              " (('analysis', 'using'), 65),\n",
              " (('expression', 'study'), 58),\n",
              " (('used', 'two'), 57),\n",
              " (('one', 'present'), 40),\n",
              " (('protein', 'one'), 44),\n",
              " (('protein', 'two'), 59),\n",
              " (('different', 'treatment'), 37),\n",
              " (('activity', 'role'), 36),\n",
              " (('patient', 'case'), 64),\n",
              " (('may', 'observed'), 42),\n",
              " (('however', 'found'), 39),\n",
              " (('analysis', 'result'), 68),\n",
              " (('used', 'also'), 58),\n",
              " (('result', 'using'), 91),\n",
              " (('using', 'control'), 37),\n",
              " (('significantly', 'however'), 37),\n",
              " (('treatment', 'effect'), 83),\n",
              " (('using', 'present'), 37),\n",
              " (('using', 'two'), 49),\n",
              " (('associated', 'may'), 38),\n",
              " (('factor', 'result'), 51),\n",
              " (('significantly', 'different'), 41),\n",
              " (('role', 'gene'), 41),\n",
              " (('however', 'used'), 37),\n",
              " (('significantly', 'compared'), 53),\n",
              " (('protein', 'high'), 41),\n",
              " (('found', 'two'), 45),\n",
              " (('patient', 'also'), 68),\n",
              " (('effect', 'expression'), 54),\n",
              " (('patient', 'found'), 42),\n",
              " (('different', 'study'), 84),\n",
              " (('also', 'significant'), 43),\n",
              " (('associated', 'effect'), 42),\n",
              " (('effect', 'control'), 54),\n",
              " (('result', 'expression'), 55),\n",
              " (('analysis', 'data'), 43),\n",
              " (('clinical', 'study'), 58),\n",
              " (('study', 'response'), 56),\n",
              " (('also', 'gene'), 39),\n",
              " (('level', 'result'), 71),\n",
              " (('time', 'also'), 54),\n",
              " (('one', 'two'), 75),\n",
              " (('may', 'activity'), 57),\n",
              " (('compared', 'effect'), 56),\n",
              " (('human', 'study'), 52),\n",
              " (('analysis', 'cell'), 54),\n",
              " (('also', 'treatment'), 55),\n",
              " (('using', 'show'), 44),\n",
              " (('cell', 'show'), 44),\n",
              " (('high', 'effect'), 57),\n",
              " (('result', 'different'), 68),\n",
              " (('may', 'also'), 65),\n",
              " (('may', 'effect'), 76),\n",
              " (('compared', 'study'), 65),\n",
              " (('cell', 't0'), 37),\n",
              " (('protein', 'present'), 39),\n",
              " (('p', 'control'), 39),\n",
              " (('may', 'treatment'), 59),\n",
              " (('protein', 'human'), 40),\n",
              " (('patient', 'high'), 47),\n",
              " (('cell', 'however'), 72),\n",
              " (('factor', 'effect'), 43),\n",
              " (('associated', 'study'), 59),\n",
              " (('found', 'may'), 46),\n",
              " (('case', 'one'), 36),\n",
              " (('high', 'result'), 56),\n",
              " (('time', 'different'), 45),\n",
              " (('compared', 'increased'), 45),\n",
              " (('time', 'two'), 46),\n",
              " (('p', 'effect'), 50),\n",
              " (('present', 'different'), 37),\n",
              " (('showed', 'activity'), 38),\n",
              " (('well', 'study'), 51),\n",
              " (('change', 'study'), 44),\n",
              " (('also', 'data'), 36),\n",
              " (('result', 'mechanism'), 41),\n",
              " (('used', 'effect'), 53),\n",
              " (('used', 'system'), 41),\n",
              " (('disease', 'also'), 41),\n",
              " (('result', 'well'), 43),\n",
              " (('protein', 'effect'), 49),\n",
              " (('increased', 'p'), 44),\n",
              " (('patient', 'p'), 51),\n",
              " (('level', 'however'), 39),\n",
              " (('result', 'p'), 54),\n",
              " (('may', 'response'), 41),\n",
              " (('one', 'treatment'), 46),\n",
              " (('activity', 'gene'), 37),\n",
              " (('p', 'also'), 46),\n",
              " (('used', 'different'), 49),\n",
              " (('analysis', 'study'), 71),\n",
              " (('gene', 'study'), 46),\n",
              " (('patient', 'control'), 37),\n",
              " (('result', 'treatment'), 74),\n",
              " (('also', 'response'), 38),\n",
              " (('found', 'effect'), 46),\n",
              " (('factor', 'also'), 38),\n",
              " (('patient', 'using'), 47),\n",
              " (('cell', 'data'), 41),\n",
              " (('may', 'different'), 41),\n",
              " (('patient', 'activity'), 36),\n",
              " (('cell', 'expression'), 90),\n",
              " (('activity', 'study'), 69),\n",
              " (('analysis', 'two'), 41),\n",
              " (('t0', 'also'), 47),\n",
              " (('may', 'two'), 53),\n",
              " (('also', 'role'), 54),\n",
              " (('observed', 'two'), 45),\n",
              " (('level', 'different'), 43),\n",
              " (('result', 't0'), 51),\n",
              " (('p', 'significant'), 39),\n",
              " (('patient', 'effect'), 53),\n",
              " (('factor', 'study'), 51),\n",
              " (('analysis', 'one'), 37),\n",
              " (('increased', 'also'), 44),\n",
              " (('also', 'two'), 58),\n",
              " (('protein', 'study'), 66),\n",
              " (('however', 'role'), 47),\n",
              " (('case', 'result'), 48),\n",
              " (('one', 'effect'), 51),\n",
              " (('protein', 'using'), 51),\n",
              " (('system', 'study'), 46),\n",
              " (('study', 'observed'), 62),\n",
              " (('patient', 'used'), 41),\n",
              " (('cell', 'control'), 52),\n",
              " (('effect', 'response'), 59),\n",
              " (('protein', 'different'), 42),\n",
              " (('found', 'study'), 68),\n",
              " (('system', 'effect'), 36),\n",
              " (('cell', 'two'), 56),\n",
              " (('may', 'human'), 46),\n",
              " (('human', 'activity'), 39),\n",
              " (('disease', 'clinical'), 36),\n",
              " (('protein', 'used'), 47),\n",
              " (('result', 'study'), 121),\n",
              " (('role', 'study'), 68),\n",
              " (('level', 'showed'), 39),\n",
              " (('different', 'effect'), 54),\n",
              " (('level', 'present'), 36),\n",
              " (('significantly', 'may'), 43),\n",
              " (('may', 'control'), 45),\n",
              " (('increased', 'response'), 36),\n",
              " (('also', 'human'), 50),\n",
              " (('may', 'system'), 46),\n",
              " (('significantly', 'also'), 45),\n",
              " (('role', 'effect'), 59),\n",
              " (('present', 'effect'), 37),\n",
              " (('using', 'also'), 68),\n",
              " (('cell', 'role'), 70),\n",
              " (('cell', 'well'), 37),\n",
              " (('level', 'effect'), 63),\n",
              " (('patient', 'present'), 50),\n",
              " (('also', 'control'), 43),\n",
              " (('patient', 'different'), 37),\n",
              " (('cell', 'gene'), 71),\n",
              " (('result', 'present'), 60),\n",
              " (('p', 'activity'), 36),\n",
              " (('disease', 'treatment'), 38),\n",
              " (('cell', 'p'), 45),\n",
              " (('increased', 'control'), 44),\n",
              " (('significant', 'observed'), 36),\n",
              " (('compared', 'showed'), 40),\n",
              " (('patient', 't0'), 45),\n",
              " (('treatment', 'control'), 36),\n",
              " (('however', 'may'), 70),\n",
              " (('cell', 'mechanism'), 58),\n",
              " (('high', 'using'), 39),\n",
              " (('patient', 'result'), 73),\n",
              " (('using', 'gene'), 38),\n",
              " (('significantly', 'response'), 37),\n",
              " (('cell', 'c'), 41),\n",
              " (('significantly', 'study'), 71),\n",
              " (('significantly', 'p'), 54),\n",
              " (('effect', 'observed'), 60),\n",
              " (('activity', 'treatment'), 39),\n",
              " (('showed', 'effect'), 54),\n",
              " (('patient', 'study'), 91),\n",
              " (('showed', 'treatment'), 40),\n",
              " (('compared', 'cell'), 47),\n",
              " (('increased', 'result'), 70),\n",
              " (('cell', 'change'), 37),\n",
              " (('increased', 'change'), 36),\n",
              " (('disease', 'patient'), 77),\n",
              " (('increased', 'treatment'), 39),\n",
              " (('analysis', 'method'), 40),\n",
              " (('analysis', 'showed'), 48),\n",
              " (('used', 'found'), 38),\n",
              " (('cell', 'protein'), 95),\n",
              " (('protein', 'result'), 64),\n",
              " (('one', 'different'), 42),\n",
              " (('also', 'c'), 37),\n",
              " (('result', 'method'), 57),\n",
              " (('study', 'two'), 81),\n",
              " (('cell', 'time'), 36),\n",
              " (('however', 'activity'), 39),\n",
              " (('using', 'expression'), 38),\n",
              " (('result', 'data'), 48),\n",
              " (('result', 'show'), 58),\n",
              " (('patient', 'associated'), 55),\n",
              " (('patient', 'cell'), 62),\n",
              " (('cell', 'observed'), 57),\n",
              " (('different', 'two'), 61),\n",
              " (('may', 'study'), 87),\n",
              " (('level', 'compared'), 37),\n",
              " (('high', 'different'), 38),\n",
              " (('compared', 'may'), 44),\n",
              " (('increased', 'observed'), 37),\n",
              " (('protein', 'also'), 67),\n",
              " (('may', 'mechanism'), 38),\n",
              " (('showed', 'study'), 60),\n",
              " (('may', 'well'), 37),\n",
              " (('cell', 'human'), 71),\n",
              " (('also', 'mechanism'), 52),\n",
              " (('effect', 'two'), 61),\n",
              " (('level', 'also'), 55),\n",
              " (('however', 'study'), 85),\n",
              " (('significant', 'control'), 38),\n",
              " (('level', 'high'), 53),\n",
              " (('compared', 'p'), 49),\n",
              " (('found', 'also'), 51),\n",
              " (('system', 'using'), 48),\n",
              " (('patient', 'may'), 77),\n",
              " (('found', 'one'), 36),\n",
              " (('factor', 'cell'), 55),\n",
              " (('one', 'study'), 73),\n",
              " (('effect', 'gene'), 41),\n",
              " (('cell', 'associated'), 43),\n",
              " (('analysis', 'c'), 40),\n",
              " (('however', 'effect'), 59),\n",
              " (('cell', 'showed'), 53),\n",
              " (('cell', 'effect'), 92),\n",
              " (('result', 'role'), 56),\n",
              " (('high', 'used'), 54),\n",
              " (('level', 'two'), 38),\n",
              " (('however', 'mechanism'), 38),\n",
              " (('using', 'treatment'), 43),\n",
              " (('level', 'study'), 71),\n",
              " (('cell', 'found'), 55),\n",
              " (('using', 'study'), 93),\n",
              " (('using', 'effect'), 55),\n",
              " (('protein', 'may'), 40),\n",
              " (('however', 'treatment'), 46),\n",
              " (('using', 'role'), 36),\n",
              " (('treatment', 'study'), 74),\n",
              " (('case', 'study'), 40),\n",
              " (('cell', 'also', 'study'), 33),\n",
              " (('cell', 'effect', 'result'), 37),\n",
              " (('cell', 'expression', 'study'), 31),\n",
              " (('cell', 'expression', 'result'), 32),\n",
              " (('cell', 'protein', 'expression'), 39),\n",
              " (('cell', 'used', 'study'), 29),\n",
              " (('cell', 'expression', 'may'), 33),\n",
              " (('cell', 'effect', 'study'), 33),\n",
              " (('effect', 'result', 'may'), 37),\n",
              " (('study', 'result', 'may'), 30),\n",
              " (('patient', 'result', 'treatment'), 31),\n",
              " (('high', 'used', 'study'), 29),\n",
              " (('activity', 'effect', 'result'), 30),\n",
              " (('study', 'result', 'different'), 30),\n",
              " (('cell', 'also', 'protein'), 33),\n",
              " (('also', 'study', 'result'), 29),\n",
              " (('level', 'cell', 'expression'), 31),\n",
              " (('cell', 'also', 'expression'), 34),\n",
              " (('cell', 'also', 'result'), 32),\n",
              " (('result', 'however', 'may'), 29),\n",
              " (('one', 'study', 'result'), 29),\n",
              " (('using', 'study', 'different'), 30),\n",
              " (('gene', 'protein', 'expression'), 30),\n",
              " (('effect', 'treatment', 'may'), 30),\n",
              " (('effect', 'significantly', 'study'), 29),\n",
              " (('used', 'study', 'result'), 36),\n",
              " (('gene', 'cell', 'protein'), 35),\n",
              " (('effect', 'study', 'treatment'), 31),\n",
              " (('using', 'study', 'result'), 29),\n",
              " (('gene', 'cell', 'expression'), 37),\n",
              " (('increased', 'effect', 'result'), 30),\n",
              " (('cell', 'study', 'result'), 31),\n",
              " (('cell', 'protein', 'result'), 30),\n",
              " (('cell', 'effect', 'expression'), 31),\n",
              " (('human', 'cell', 'result'), 31),\n",
              " (('cell', 'result', 'may'), 34),\n",
              " (('cell', 'result', 'however'), 32),\n",
              " (('cell', 'expression', 'role'), 33),\n",
              " (('effect', 'study', 'result'), 36),\n",
              " (('increased', 'effect', 'study'), 30)]"
            ]
          },
          "metadata": {},
          "execution_count": 33
        }
      ],
      "source": [
        "decoded"
      ]
    },
    {
      "cell_type": "markdown",
      "metadata": {
        "id": "pWa_HYRkPjYo"
      },
      "source": [
        "# ASSOCIATION RULES"
      ]
    },
    {
      "cell_type": "code",
      "source": [
        "#generate association rules\n",
        "rules_df = APRIORI.generate_association_rules(results, to_decode=True)"
      ],
      "metadata": {
        "id": "3okABo_PAlKm"
      },
      "execution_count": 34,
      "outputs": []
    },
    {
      "cell_type": "code",
      "source": [
        "rules_df.head(20)"
      ],
      "metadata": {
        "id": "PfmggF-5kn6e",
        "colab": {
          "base_uri": "https://localhost:8080/",
          "height": 269
        },
        "outputId": "98d26149-6592-46f4-fd80-340bb2fd9dc2"
      },
      "execution_count": 35,
      "outputs": [
        {
          "output_type": "execute_result",
          "data": {
            "text/plain": [
              "             antecedent     consequent   support  confidence  interest\n",
              "0    (also, expression)        (cell,)  0.023644    0.641509  0.422455\n",
              "1         (expression,)        (cell,)  0.062587    0.604027  0.384973\n",
              "2  (effect, expression)        (cell,)  0.021558    0.574074  0.355020\n",
              "3          (high, used)       (study,)  0.020167    0.537037  0.245660\n",
              "5          (cell, gene)  (expression,)  0.025730    0.521127  0.417511\n",
              "7           (clinical,)     (patient,)  0.054242    0.513158  0.280195\n",
              "8      (may, treatment)      (effect,)  0.020862    0.508475  0.290811"
            ],
            "text/html": [
              "\n",
              "  <div id=\"df-a443fd26-6d84-43ce-83fa-bc2081239306\" class=\"colab-df-container\">\n",
              "    <div>\n",
              "<style scoped>\n",
              "    .dataframe tbody tr th:only-of-type {\n",
              "        vertical-align: middle;\n",
              "    }\n",
              "\n",
              "    .dataframe tbody tr th {\n",
              "        vertical-align: top;\n",
              "    }\n",
              "\n",
              "    .dataframe thead th {\n",
              "        text-align: right;\n",
              "    }\n",
              "</style>\n",
              "<table border=\"1\" class=\"dataframe\">\n",
              "  <thead>\n",
              "    <tr style=\"text-align: right;\">\n",
              "      <th></th>\n",
              "      <th>antecedent</th>\n",
              "      <th>consequent</th>\n",
              "      <th>support</th>\n",
              "      <th>confidence</th>\n",
              "      <th>interest</th>\n",
              "    </tr>\n",
              "  </thead>\n",
              "  <tbody>\n",
              "    <tr>\n",
              "      <th>0</th>\n",
              "      <td>(also, expression)</td>\n",
              "      <td>(cell,)</td>\n",
              "      <td>0.023644</td>\n",
              "      <td>0.641509</td>\n",
              "      <td>0.422455</td>\n",
              "    </tr>\n",
              "    <tr>\n",
              "      <th>1</th>\n",
              "      <td>(expression,)</td>\n",
              "      <td>(cell,)</td>\n",
              "      <td>0.062587</td>\n",
              "      <td>0.604027</td>\n",
              "      <td>0.384973</td>\n",
              "    </tr>\n",
              "    <tr>\n",
              "      <th>2</th>\n",
              "      <td>(effect, expression)</td>\n",
              "      <td>(cell,)</td>\n",
              "      <td>0.021558</td>\n",
              "      <td>0.574074</td>\n",
              "      <td>0.355020</td>\n",
              "    </tr>\n",
              "    <tr>\n",
              "      <th>3</th>\n",
              "      <td>(high, used)</td>\n",
              "      <td>(study,)</td>\n",
              "      <td>0.020167</td>\n",
              "      <td>0.537037</td>\n",
              "      <td>0.245660</td>\n",
              "    </tr>\n",
              "    <tr>\n",
              "      <th>5</th>\n",
              "      <td>(cell, gene)</td>\n",
              "      <td>(expression,)</td>\n",
              "      <td>0.025730</td>\n",
              "      <td>0.521127</td>\n",
              "      <td>0.417511</td>\n",
              "    </tr>\n",
              "    <tr>\n",
              "      <th>7</th>\n",
              "      <td>(clinical,)</td>\n",
              "      <td>(patient,)</td>\n",
              "      <td>0.054242</td>\n",
              "      <td>0.513158</td>\n",
              "      <td>0.280195</td>\n",
              "    </tr>\n",
              "    <tr>\n",
              "      <th>8</th>\n",
              "      <td>(may, treatment)</td>\n",
              "      <td>(effect,)</td>\n",
              "      <td>0.020862</td>\n",
              "      <td>0.508475</td>\n",
              "      <td>0.290811</td>\n",
              "    </tr>\n",
              "  </tbody>\n",
              "</table>\n",
              "</div>\n",
              "    <div class=\"colab-df-buttons\">\n",
              "\n",
              "  <div class=\"colab-df-container\">\n",
              "    <button class=\"colab-df-convert\" onclick=\"convertToInteractive('df-a443fd26-6d84-43ce-83fa-bc2081239306')\"\n",
              "            title=\"Convert this dataframe to an interactive table.\"\n",
              "            style=\"display:none;\">\n",
              "\n",
              "  <svg xmlns=\"http://www.w3.org/2000/svg\" height=\"24px\" viewBox=\"0 -960 960 960\">\n",
              "    <path d=\"M120-120v-720h720v720H120Zm60-500h600v-160H180v160Zm220 220h160v-160H400v160Zm0 220h160v-160H400v160ZM180-400h160v-160H180v160Zm440 0h160v-160H620v160ZM180-180h160v-160H180v160Zm440 0h160v-160H620v160Z\"/>\n",
              "  </svg>\n",
              "    </button>\n",
              "\n",
              "  <style>\n",
              "    .colab-df-container {\n",
              "      display:flex;\n",
              "      gap: 12px;\n",
              "    }\n",
              "\n",
              "    .colab-df-convert {\n",
              "      background-color: #E8F0FE;\n",
              "      border: none;\n",
              "      border-radius: 50%;\n",
              "      cursor: pointer;\n",
              "      display: none;\n",
              "      fill: #1967D2;\n",
              "      height: 32px;\n",
              "      padding: 0 0 0 0;\n",
              "      width: 32px;\n",
              "    }\n",
              "\n",
              "    .colab-df-convert:hover {\n",
              "      background-color: #E2EBFA;\n",
              "      box-shadow: 0px 1px 2px rgba(60, 64, 67, 0.3), 0px 1px 3px 1px rgba(60, 64, 67, 0.15);\n",
              "      fill: #174EA6;\n",
              "    }\n",
              "\n",
              "    .colab-df-buttons div {\n",
              "      margin-bottom: 4px;\n",
              "    }\n",
              "\n",
              "    [theme=dark] .colab-df-convert {\n",
              "      background-color: #3B4455;\n",
              "      fill: #D2E3FC;\n",
              "    }\n",
              "\n",
              "    [theme=dark] .colab-df-convert:hover {\n",
              "      background-color: #434B5C;\n",
              "      box-shadow: 0px 1px 3px 1px rgba(0, 0, 0, 0.15);\n",
              "      filter: drop-shadow(0px 1px 2px rgba(0, 0, 0, 0.3));\n",
              "      fill: #FFFFFF;\n",
              "    }\n",
              "  </style>\n",
              "\n",
              "    <script>\n",
              "      const buttonEl =\n",
              "        document.querySelector('#df-a443fd26-6d84-43ce-83fa-bc2081239306 button.colab-df-convert');\n",
              "      buttonEl.style.display =\n",
              "        google.colab.kernel.accessAllowed ? 'block' : 'none';\n",
              "\n",
              "      async function convertToInteractive(key) {\n",
              "        const element = document.querySelector('#df-a443fd26-6d84-43ce-83fa-bc2081239306');\n",
              "        const dataTable =\n",
              "          await google.colab.kernel.invokeFunction('convertToInteractive',\n",
              "                                                    [key], {});\n",
              "        if (!dataTable) return;\n",
              "\n",
              "        const docLinkHtml = 'Like what you see? Visit the ' +\n",
              "          '<a target=\"_blank\" href=https://colab.research.google.com/notebooks/data_table.ipynb>data table notebook</a>'\n",
              "          + ' to learn more about interactive tables.';\n",
              "        element.innerHTML = '';\n",
              "        dataTable['output_type'] = 'display_data';\n",
              "        await google.colab.output.renderOutput(dataTable, element);\n",
              "        const docLink = document.createElement('div');\n",
              "        docLink.innerHTML = docLinkHtml;\n",
              "        element.appendChild(docLink);\n",
              "      }\n",
              "    </script>\n",
              "  </div>\n",
              "\n",
              "\n",
              "<div id=\"df-e8b9db88-f321-4375-b063-970613d2847b\">\n",
              "  <button class=\"colab-df-quickchart\" onclick=\"quickchart('df-e8b9db88-f321-4375-b063-970613d2847b')\"\n",
              "            title=\"Suggest charts.\"\n",
              "            style=\"display:none;\">\n",
              "\n",
              "<svg xmlns=\"http://www.w3.org/2000/svg\" height=\"24px\"viewBox=\"0 0 24 24\"\n",
              "     width=\"24px\">\n",
              "    <g>\n",
              "        <path d=\"M19 3H5c-1.1 0-2 .9-2 2v14c0 1.1.9 2 2 2h14c1.1 0 2-.9 2-2V5c0-1.1-.9-2-2-2zM9 17H7v-7h2v7zm4 0h-2V7h2v10zm4 0h-2v-4h2v4z\"/>\n",
              "    </g>\n",
              "</svg>\n",
              "  </button>\n",
              "\n",
              "<style>\n",
              "  .colab-df-quickchart {\n",
              "      --bg-color: #E8F0FE;\n",
              "      --fill-color: #1967D2;\n",
              "      --hover-bg-color: #E2EBFA;\n",
              "      --hover-fill-color: #174EA6;\n",
              "      --disabled-fill-color: #AAA;\n",
              "      --disabled-bg-color: #DDD;\n",
              "  }\n",
              "\n",
              "  [theme=dark] .colab-df-quickchart {\n",
              "      --bg-color: #3B4455;\n",
              "      --fill-color: #D2E3FC;\n",
              "      --hover-bg-color: #434B5C;\n",
              "      --hover-fill-color: #FFFFFF;\n",
              "      --disabled-bg-color: #3B4455;\n",
              "      --disabled-fill-color: #666;\n",
              "  }\n",
              "\n",
              "  .colab-df-quickchart {\n",
              "    background-color: var(--bg-color);\n",
              "    border: none;\n",
              "    border-radius: 50%;\n",
              "    cursor: pointer;\n",
              "    display: none;\n",
              "    fill: var(--fill-color);\n",
              "    height: 32px;\n",
              "    padding: 0;\n",
              "    width: 32px;\n",
              "  }\n",
              "\n",
              "  .colab-df-quickchart:hover {\n",
              "    background-color: var(--hover-bg-color);\n",
              "    box-shadow: 0 1px 2px rgba(60, 64, 67, 0.3), 0 1px 3px 1px rgba(60, 64, 67, 0.15);\n",
              "    fill: var(--button-hover-fill-color);\n",
              "  }\n",
              "\n",
              "  .colab-df-quickchart-complete:disabled,\n",
              "  .colab-df-quickchart-complete:disabled:hover {\n",
              "    background-color: var(--disabled-bg-color);\n",
              "    fill: var(--disabled-fill-color);\n",
              "    box-shadow: none;\n",
              "  }\n",
              "\n",
              "  .colab-df-spinner {\n",
              "    border: 2px solid var(--fill-color);\n",
              "    border-color: transparent;\n",
              "    border-bottom-color: var(--fill-color);\n",
              "    animation:\n",
              "      spin 1s steps(1) infinite;\n",
              "  }\n",
              "\n",
              "  @keyframes spin {\n",
              "    0% {\n",
              "      border-color: transparent;\n",
              "      border-bottom-color: var(--fill-color);\n",
              "      border-left-color: var(--fill-color);\n",
              "    }\n",
              "    20% {\n",
              "      border-color: transparent;\n",
              "      border-left-color: var(--fill-color);\n",
              "      border-top-color: var(--fill-color);\n",
              "    }\n",
              "    30% {\n",
              "      border-color: transparent;\n",
              "      border-left-color: var(--fill-color);\n",
              "      border-top-color: var(--fill-color);\n",
              "      border-right-color: var(--fill-color);\n",
              "    }\n",
              "    40% {\n",
              "      border-color: transparent;\n",
              "      border-right-color: var(--fill-color);\n",
              "      border-top-color: var(--fill-color);\n",
              "    }\n",
              "    60% {\n",
              "      border-color: transparent;\n",
              "      border-right-color: var(--fill-color);\n",
              "    }\n",
              "    80% {\n",
              "      border-color: transparent;\n",
              "      border-right-color: var(--fill-color);\n",
              "      border-bottom-color: var(--fill-color);\n",
              "    }\n",
              "    90% {\n",
              "      border-color: transparent;\n",
              "      border-bottom-color: var(--fill-color);\n",
              "    }\n",
              "  }\n",
              "</style>\n",
              "\n",
              "  <script>\n",
              "    async function quickchart(key) {\n",
              "      const quickchartButtonEl =\n",
              "        document.querySelector('#' + key + ' button');\n",
              "      quickchartButtonEl.disabled = true;  // To prevent multiple clicks.\n",
              "      quickchartButtonEl.classList.add('colab-df-spinner');\n",
              "      try {\n",
              "        const charts = await google.colab.kernel.invokeFunction(\n",
              "            'suggestCharts', [key], {});\n",
              "      } catch (error) {\n",
              "        console.error('Error during call to suggestCharts:', error);\n",
              "      }\n",
              "      quickchartButtonEl.classList.remove('colab-df-spinner');\n",
              "      quickchartButtonEl.classList.add('colab-df-quickchart-complete');\n",
              "    }\n",
              "    (() => {\n",
              "      let quickchartButtonEl =\n",
              "        document.querySelector('#df-e8b9db88-f321-4375-b063-970613d2847b button');\n",
              "      quickchartButtonEl.style.display =\n",
              "        google.colab.kernel.accessAllowed ? 'block' : 'none';\n",
              "    })();\n",
              "  </script>\n",
              "</div>\n",
              "    </div>\n",
              "  </div>\n"
            ]
          },
          "metadata": {},
          "execution_count": 35
        }
      ]
    },
    {
      "cell_type": "code",
      "source": [
        "# save rules to csv\n",
        "rules_df.to_csv('/content/rules.csv')"
      ],
      "metadata": {
        "id": "FCgMcuvPheN5"
      },
      "execution_count": 36,
      "outputs": []
    },
    {
      "cell_type": "code",
      "source": [],
      "metadata": {
        "id": "tVYOBxZ8OPX3"
      },
      "execution_count": 36,
      "outputs": []
    }
  ],
  "metadata": {
    "colab": {
      "collapsed_sections": [
        "jtXzKYbrDkjX",
        "EBxWiUIb5JOU",
        "bwpXxhilX4bC",
        "mNp4wKHBXrVN",
        "MQ6ZMMhnN9mR",
        "yVEWpkx6PIqz",
        "uI--OXsGPO7S"
      ],
      "provenance": [],
      "include_colab_link": true
    },
    "kernelspec": {
      "display_name": "Python 3",
      "name": "python3"
    },
    "language_info": {
      "name": "python"
    }
  },
  "nbformat": 4,
  "nbformat_minor": 0
}